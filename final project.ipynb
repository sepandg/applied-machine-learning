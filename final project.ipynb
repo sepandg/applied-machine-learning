{
 "cells": [
  {
   "cell_type": "code",
   "execution_count": 1,
   "metadata": {},
   "outputs": [],
   "source": [
    "import pandas as pd\n",
    "import seaborn as sns\n",
    "import os\n",
    "import torch\n",
    "import numpy as np\n",
    "import math\n",
    "import tensorflow as tf\n",
    "from sklearn import ensemble\n",
    "from sklearn.base import BaseEstimator, TransformerMixin\n",
    "from sklearn.ensemble import GradientBoostingClassifier\n",
    "from sklearn.metrics import roc_curve, precision_recall_curve, auc, accuracy_score\n",
    "import matplotlib.pyplot as plt\n",
    "from sklearn.metrics import classification_report,confusion_matrix\n",
    "from sklearn.model_selection import train_test_split\n",
    "from sklearn.preprocessing import LabelEncoder\n",
    "from sklearn.preprocessing import OneHotEncoder\n",
    "from keras.models import Sequential\n",
    "from tensorflow.keras.layers import Dense, Activation,Dropout\n",
    "from tensorflow.keras.callbacks import EarlyStopping\n",
    "from sklearn.model_selection import train_test_split\n",
    "from sklearn.metrics import roc_auc_score\n",
    "from sklearn.metrics import recall_score"
   ]
  },
  {
   "cell_type": "markdown",
   "metadata": {},
   "source": [
    "# Read in the data and preform the transformation to prepare for analysis"
   ]
  },
  {
   "cell_type": "code",
   "execution_count": null,
   "metadata": {},
   "outputs": [],
   "source": [
    "df= pd.read_pickle('df.pkl')"
   ]
  },
  {
   "cell_type": "code",
   "execution_count": 2,
   "metadata": {},
   "outputs": [],
   "source": [
    "# Custom Transforms\n",
    "\n",
    "class fix_percent(BaseEstimator, TransformerMixin):\n",
    "    \n",
    "    def __init__(self):\n",
    "        pass \n",
    "    \n",
    "    def fit(self, X, y = None):\n",
    "        return self\n",
    "    \n",
    "    def transform(self, X, y=None):\n",
    "        _X = X.copy()\n",
    "        \n",
    "        for i in X.columns:\n",
    "            _X[i] = _X[i].str.replace('%', '').astype(float)/100\n",
    "        return _X"
   ]
  },
  {
   "cell_type": "code",
   "execution_count": 3,
   "metadata": {},
   "outputs": [],
   "source": [
    "def time_def(x):\n",
    "    return (relativedelta(datetime.now(), pd.to_datetime(x)).years)\n",
    "# custom transform for earliest credit line\n",
    "\n",
    "class time_passed(BaseEstimator, TransformerMixin):\n",
    "\n",
    "    def __init__(self):\n",
    "        pass \n",
    "    \n",
    "    def fit(self, X, y = None):\n",
    "        return self\n",
    "   \n",
    "    def transform(self, X, y=None):\n",
    "        _X = X.copy()       \n",
    "        for i in X.columns:\n",
    "            _X[i] = _X[i].apply(lambda x: time_def(x))\n",
    "        return _X"
   ]
  },
  {
   "cell_type": "code",
   "execution_count": 4,
   "metadata": {},
   "outputs": [],
   "source": [
    "def make_target(val):\n",
    "    if val in ['Charged Off', 'Late (31-120 days)', 'Default']:\n",
    "        return 1\n",
    "    else:\n",
    "        return 0"
   ]
  },
  {
   "cell_type": "code",
   "execution_count": null,
   "metadata": {},
   "outputs": [],
   "source": [
    "features = ['loan_amnt'\n",
    "            , 'term'\n",
    "            , 'int_rate'\n",
    "            , 'installment'\n",
    "            , 'grade'\n",
    "            , 'sub_grade'\n",
    "            , 'emp_title'\n",
    "            , 'emp_length'\n",
    "            , 'home_ownership'\n",
    "            , 'annual_inc'\n",
    "            , 'verification_status'\n",
    "            , 'purpose'\n",
    "            , 'title'\n",
    "            , 'addr_state'\n",
    "            , 'dti'\n",
    "            , 'delinq_2yrs'\n",
    "            , 'earliest_cr_line'\n",
    "            , 'fico_range_low'\n",
    "            , 'fico_range_high'\n",
    "            , 'inq_last_6mths'\n",
    "            , 'mths_since_last_delinq'\n",
    "            , 'mths_since_last_record'\n",
    "            , 'open_acc'\n",
    "            , 'pub_rec'\n",
    "            , 'revol_bal'\n",
    "            , 'revol_util'\n",
    "            , 'total_acc'\n",
    "            , 'initial_list_status'\n",
    "            , 'loan_status']\n",
    "\n",
    "status_list = ['Fully Paid', 'Charged Off', 'Late (31-120 days)', 'Default']\n",
    "df = df[df['loan_status'].isin(status_list)]\n",
    "df['loan_status'] = df['loan_status'].apply(make_target)\n",
    "df = df[features]"
   ]
  },
  {
   "cell_type": "code",
   "execution_count": 6,
   "metadata": {},
   "outputs": [],
   "source": [
    "from sklearn.impute import SimpleImputer, MissingIndicator\n",
    "from sklearn.preprocessing import StandardScaler, PolynomialFeatures, KBinsDiscretizer\n",
    "from sklearn.pipeline import Pipeline\n",
    "from sklearn.compose import ColumnTransformer\n",
    "\n",
    "# Features that we want to leave untransformed:\n",
    "# Only numeric features need apply:\n",
    "standardize_and_impute_only = [\n",
    "'loan_amnt'\n",
    ", 'annual_inc'\n",
    ", 'delinq_2yrs'\n",
    ", 'inq_last_6mths'\n",
    ", 'open_acc'\n",
    "]\n",
    "\n",
    "# maybe we will trying some polynomial transofmrations\n",
    "polynomial_features = [\n",
    "'installment'\n",
    ", 'dti'\n",
    "]\n",
    "\n",
    "# how about some discretizations?\n",
    "discretization = [\n",
    "'fico_range_low'\n",
    ", 'fico_range_high'\n",
    ", 'mths_since_last_delinq'\n",
    ", 'mths_since_last_record'\n",
    ", 'pub_rec'\n",
    ", 'revol_bal'\n",
    ", 'total_acc'\n",
    "]\n",
    "\n",
    "# let's construct all of our transformers\n",
    "standard_scaler = StandardScaler()\n",
    "missing_indicator = MissingIndicator(features=\"all\")\n",
    "simple_imputer = SimpleImputer(strategy='median')\n",
    "polynomial_featurizer = PolynomialFeatures(2)\n",
    "discretizer = KBinsDiscretizer(n_bins=8, encode='ordinal', strategy='uniform')\n",
    "fix_percent_transformer = fix_percent()\n",
    "\n",
    "# and make the pipelines\n",
    "standardize_and_impute_pipeline_steps = [('standardization', standard_scaler), ('imputer', simple_imputer)]\n",
    "standardize_and_impute_pipeline = Pipeline(standardize_and_impute_pipeline_steps)\n",
    "\n",
    "polynomial_pipeline_steps = standardize_and_impute_pipeline_steps + [('polynomial', polynomial_featurizer)]\n",
    "polynomial_pipeline = Pipeline(polynomial_pipeline_steps)\n",
    "\n",
    "discretize_steps = [('imputer', simple_imputer), ('discretize', discretizer)]\n",
    "discretize_pipeline = Pipeline(discretize_steps)\n",
    "\n",
    "interest_rate_steps = [('fix_int_rate', fix_percent_transformer)] + standardize_and_impute_pipeline_steps\n",
    "interest_rate_pipeline = Pipeline(interest_rate_steps)\n",
    "\n",
    "missing_flag_steps = [('missing_flag', missing_indicator)]\n",
    "missing_flag_pipeline = Pipeline(missing_flag_steps)\n",
    "\n",
    "#now we can use a ColumnTransformer to do everything\n",
    "transform_pipeline = ColumnTransformer([\n",
    "    ('standardize_and_impute_pipeline', standardize_and_impute_pipeline, standardize_and_impute_only)\n",
    "     , ('polynomial_pipeline', polynomial_pipeline, polynomial_features)\n",
    "     , ('discretize_pipeline', discretize_pipeline, discretization)\n",
    "     , ('interest_rate_pipeline', interest_rate_pipeline, ['int_rate'])\n",
    "     , ('missing_flag_pipeline', missing_flag_pipeline, standardize_and_impute_only + polynomial_features + discretization)\n",
    "])\n"
   ]
  },
  {
   "cell_type": "markdown",
   "metadata": {},
   "source": [
    "# Test train\n",
    "\n",
    "We took a sample of 3000 positive cases and 7000 negetive cases from the total data frame for studying."
   ]
  },
  {
   "cell_type": "code",
   "execution_count": 127,
   "metadata": {},
   "outputs": [],
   "source": [
    "small_df_1 = df[df['loan_status']==1].sample(n=3000)\n",
    "small_df_0 = df[df['loan_status']==0].sample(n=7000)\n",
    "small_df = small_df_1.append(small_df_0, ignore_index=True)"
   ]
  },
  {
   "cell_type": "code",
   "execution_count": 2,
   "metadata": {},
   "outputs": [],
   "source": [
    "small_df= pd.read_pickle('small_df.pkl')"
   ]
  },
  {
   "cell_type": "code",
   "execution_count": 8,
   "metadata": {},
   "outputs": [],
   "source": [
    "X = small_df.drop(['loan_status'], axis = 1)\n",
    "y = small_df[['loan_status']]"
   ]
  },
  {
   "cell_type": "code",
   "execution_count": 9,
   "metadata": {},
   "outputs": [
    {
     "data": {
      "text/plain": [
       "0    7000\n",
       "1    3000\n",
       "Name: loan_status, dtype: int64"
      ]
     },
     "execution_count": 9,
     "metadata": {},
     "output_type": "execute_result"
    }
   ],
   "source": [
    "small_df['loan_status'].value_counts()"
   ]
  },
  {
   "cell_type": "code",
   "execution_count": 10,
   "metadata": {},
   "outputs": [],
   "source": [
    "X_train, X_test, y_train, y_test = train_test_split(X, y, test_size=0.20, random_state=101)"
   ]
  },
  {
   "cell_type": "code",
   "execution_count": 11,
   "metadata": {},
   "outputs": [],
   "source": [
    "X_train = transform_pipeline.fit_transform(X_train)\n",
    "X_test = transform_pipeline.fit_transform(X_test)"
   ]
  },
  {
   "cell_type": "markdown",
   "metadata": {},
   "source": [
    "# Model\n",
    "\n",
    "For this project we studied deep learning and implemented what we learned into the following neural netwrok. Our main focuse for thsi project was to find how to best optimize our hyperperameters to increase the acuracy and recal of our models to best predict loans that would defaualt."
   ]
  },
  {
   "cell_type": "markdown",
   "metadata": {},
   "source": [
    "## Model without weight"
   ]
  },
  {
   "cell_type": "code",
   "execution_count": 35,
   "metadata": {},
   "outputs": [],
   "source": [
    "# Creating the neaural net\n",
    "def define_model():\n",
    "    model = Sequential()\n",
    "\n",
    "    model.add(Dense(units=50,activation='relu')) # Relu is an activation function that activates when value is more than 1 but counts any value less than zero as zero\n",
    "    model.add(Dropout(0.2))\n",
    "    \n",
    "    model.add(Dense(units=30,activation='relu'))\n",
    "    model.add(Dropout(0.2))\n",
    "    \n",
    "    model.add(Dense(units=20,activation='relu'))\n",
    "    model.add(Dropout(0.2))\n",
    "    \n",
    "    model.add(Dense(units=30,activation='relu'))\n",
    "    model.add(Dropout(0.2))\n",
    "\n",
    "    model.add(Dense(units=1,activation='sigmoid')) # sigmoid is an activation function that gives an output between 0 and 1\n",
    "        \n",
    "    model.compile(loss='binary_crossentropy', optimizer='adam') #Adam is teh algorithem used to optimize our model by changing the weights during training\n",
    "    \n",
    "    return(model)\n",
    "\n",
    "model = define_model()"
   ]
  },
  {
   "cell_type": "code",
   "execution_count": 36,
   "metadata": {},
   "outputs": [],
   "source": [
    "import time\n",
    "start = time.time()\n",
    "\n",
    "model.fit(x=X_train,\n",
    "          y=y_train, \n",
    "          epochs=300,# how many times we train our model\n",
    "          validation_split=0.2,\n",
    "          verbose=0,# to either diplay training epochs or not\n",
    "          workers=2) # CPU usage perameter in training\n",
    "         \n",
    "endtime = time.time()-start "
   ]
  },
  {
   "cell_type": "code",
   "execution_count": 37,
   "metadata": {},
   "outputs": [
    {
     "data": {
      "text/plain": [
       "0.7959522485733033"
      ]
     },
     "execution_count": 37,
     "metadata": {},
     "output_type": "execute_result"
    }
   ],
   "source": [
    "endtime/60"
   ]
  },
  {
   "cell_type": "code",
   "execution_count": 38,
   "metadata": {},
   "outputs": [],
   "source": [
    "# turn array rsult into dataframe\n",
    "model_loss = pd.DataFrame(model.history.history)"
   ]
  },
  {
   "cell_type": "code",
   "execution_count": 39,
   "metadata": {},
   "outputs": [
    {
     "data": {
      "image/png": "[encoded data removed]",
      "text/plain": [
       "<Figure size 432x288 with 1 Axes>"
      ]
     },
     "metadata": {
      "needs_background": "light"
     },
     "output_type": "display_data"
    }
   ],
   "source": [
    "#drawing teh result of the loass from each epoch during our training\n",
    "loss_values = model.history.history['loss'] \n",
    "epochs = range(1, len(loss_values)+1)\n",
    "model_loss[['loss','val_loss']].plot()\n",
    "plt.title('Model without weight')\n",
    "plt.xlabel('Epochs')\n",
    "plt.ylabel('Loss')\n",
    "plt.savefig('withoutweight.jpeg')\n",
    "plt.legend()\n",
    "\n",
    "plt.show()"
   ]
  },
  {
   "cell_type": "code",
   "execution_count": 40,
   "metadata": {},
   "outputs": [
    {
     "name": "stdout",
     "output_type": "stream",
     "text": [
      " \n",
      "CM ('tn', 'fp', 'fn', 'tp')\n",
      "CM (1139, 252, 387, 222)\n",
      " \n",
      "              precision    recall  f1-score   support\n",
      "\n",
      "           0       0.75      0.82      0.78      1391\n",
      "           1       0.47      0.36      0.41       609\n",
      "\n",
      "    accuracy                           0.68      2000\n",
      "   macro avg       0.61      0.59      0.60      2000\n",
      "weighted avg       0.66      0.68      0.67      2000\n",
      "\n",
      " \n",
      "ROC AUC: 0.592\n"
     ]
    }
   ],
   "source": [
    "ynew = model.predict_classes(X_test) # predicting test set using our trained mdoel\n",
    "#dispalying teh confusion matrix and other accuracy messures\n",
    "recall_score(y_test,ynew)\n",
    "score = roc_auc_score(y_test, ynew)\n",
    "tn, fp, fn, tp = confusion_matrix(y_test,ynew).ravel()\n",
    "print(\" \")\n",
    "print(f\"CM {('tn', 'fp', 'fn','tp')}\")\n",
    "print(f\"CM {(tn, fp, fn, tp)}\")\n",
    "print(\" \")\n",
    "print(classification_report(y_test,ynew))\n",
    "print(\" \")\n",
    "print('ROC AUC: %.3f' % score)"
   ]
  },
  {
   "cell_type": "markdown",
   "metadata": {},
   "source": [
    "## Model with weight\n",
    "\n",
    "For this model we tried using the weight perameter in model to train our model better with the imbalanced classes. we discovered that even tho our model is not preforming better in accuracy the recal has improved significantly. we tried many different weight ratios and after running the model with different weights we set the values as 0.35 and 0.65, we concluded that even with similar accuracy this model would be bette roption between the two models sine it calssifies defulted loans better."
   ]
  },
  {
   "cell_type": "code",
   "execution_count": 41,
   "metadata": {},
   "outputs": [],
   "source": [
    "def define_model2():\n",
    "    model2 = Sequential()\n",
    "\n",
    "    model2.add(Dense(units=50,activation='relu'))\n",
    "    model2.add(Dropout(0.2))\n",
    "    \n",
    "    model2.add(Dense(units=30,activation='relu'))\n",
    "    model2.add(Dropout(0.2))\n",
    "    \n",
    "    model2.add(Dense(units=20,activation='relu'))\n",
    "    model2.add(Dropout(0.2))\n",
    "    \n",
    "    model2.add(Dense(units=30,activation='relu'))\n",
    "    model2.add(Dropout(0.2))\n",
    "\n",
    "    model2.add(Dense(units=1,activation='sigmoid'))\n",
    "        \n",
    "    model2.compile(loss='binary_crossentropy', optimizer='adam')\n",
    "    \n",
    "    return(model2)\n",
    "\n",
    "model2 = define_model2()"
   ]
  },
  {
   "cell_type": "code",
   "execution_count": 47,
   "metadata": {},
   "outputs": [],
   "source": [
    "import time\n",
    "start = time.time()\n",
    "\n",
    "model2.fit(x=X_train,\n",
    "          y=y_train, \n",
    "          epochs=300,\n",
    "           validation_split=0.2,\n",
    "           class_weight={0:0.35,1:0.65},# we assigned more weight to the the minority class to counter the imbance data\n",
    "           verbose=0,\n",
    "           workers=2)\n",
    "\n",
    "endtime = time.time()-start "
   ]
  },
  {
   "cell_type": "code",
   "execution_count": 48,
   "metadata": {},
   "outputs": [
    {
     "data": {
      "text/plain": [
       "0.8769070188204448"
      ]
     },
     "execution_count": 48,
     "metadata": {},
     "output_type": "execute_result"
    }
   ],
   "source": [
    "endtime/60"
   ]
  },
  {
   "cell_type": "code",
   "execution_count": 49,
   "metadata": {},
   "outputs": [],
   "source": [
    "model2_loss = pd.DataFrame(model2.history.history)"
   ]
  },
  {
   "cell_type": "code",
   "execution_count": 50,
   "metadata": {},
   "outputs": [
    {
     "data": {
      "image/png": "[encoded data removed]",
      "text/plain": [
       "<Figure size 432x288 with 1 Axes>"
      ]
     },
     "metadata": {
      "needs_background": "light"
     },
     "output_type": "display_data"
    }
   ],
   "source": [
    "loss_values2 = model2.history.history['loss']\n",
    "epochs = range(1, len(loss_values)+1)\n",
    "\n",
    "model2_loss[['loss','val_loss']].plot()\n",
    "plt.title('Model with weight')\n",
    "plt.xlabel('Epochs')\n",
    "plt.ylabel('Loss')\n",
    "plt.legend()\n",
    "plt.savefig('withweight.jpeg')\n",
    "plt.show()"
   ]
  },
  {
   "cell_type": "code",
   "execution_count": 51,
   "metadata": {},
   "outputs": [
    {
     "name": "stdout",
     "output_type": "stream",
     "text": [
      " result with weight \n",
      "CM ('tn', 'fp', 'fn', 'tp')\n",
      "CM (907, 484, 286, 323)\n",
      " \n",
      "              precision    recall  f1-score   support\n",
      "\n",
      "           0       0.76      0.65      0.70      1391\n",
      "           1       0.40      0.53      0.46       609\n",
      "\n",
      "    accuracy                           0.61      2000\n",
      "   macro avg       0.58      0.59      0.58      2000\n",
      "weighted avg       0.65      0.61      0.63      2000\n",
      "\n"
     ]
    }
   ],
   "source": [
    "ynew2 = model2.predict_classes(X_test)\n",
    "recall_score(y_test,ynew2)\n",
    "tn2, fp2, fn2, tp2 = confusion_matrix(y_test,ynew2).ravel()\n",
    "print(\" result with weight \")\n",
    "print(f\"CM {('tn','fp','fn','tp')}\")\n",
    "print(f\"CM {(tn2, fp2, fn2, tp2)}\")\n",
    "print(\" \")\n",
    "print(classification_report(y_test,ynew2))"
   ]
  },
  {
   "cell_type": "code",
   "execution_count": 57,
   "metadata": {},
   "outputs": [
    {
     "name": "stdout",
     "output_type": "stream",
     "text": [
      " Result without weight\n",
      "CM ('tn', 'fp', 'fn', 'tp')\n",
      "CM (1120, 271, 391, 218)\n",
      " \n",
      "              precision    recall  f1-score   support\n",
      "\n",
      "           0       0.74      0.81      0.77      1391\n",
      "           1       0.45      0.36      0.40       609\n",
      "\n",
      "    accuracy                           0.67      2000\n",
      "   macro avg       0.59      0.58      0.58      2000\n",
      "weighted avg       0.65      0.67      0.66      2000\n",
      "\n"
     ]
    }
   ],
   "source": [
    "ynew = model.predict_classes(X_test)\n",
    "recall_score(y_test,ynew)\n",
    "tn, fp, fn, tp = confusion_matrix(y_test,ynew).ravel()\n",
    "print(\" Result without weight\")\n",
    "print(f\"CM {('tn','fp','fn','tp')}\")\n",
    "print(f\"CM {(tn, fp, fn, tp)}\")\n",
    "print(\" \")\n",
    "print(classification_report(y_test,ynew))"
   ]
  },
  {
   "cell_type": "code",
   "execution_count": 243,
   "metadata": {},
   "outputs": [],
   "source": [
    "ynew = model.predict(X_test) #prediction without weight"
   ]
  },
  {
   "cell_type": "code",
   "execution_count": 246,
   "metadata": {},
   "outputs": [],
   "source": [
    "ynew2 = model2.predict(X_test) # prediction with weight"
   ]
  },
  {
   "cell_type": "code",
   "execution_count": 261,
   "metadata": {},
   "outputs": [
    {
     "data": {
      "image/png": "[encoded data removed]",
      "text/plain": [
       "<Figure size 432x288 with 1 Axes>"
      ]
     },
     "metadata": {
      "needs_background": "light"
     },
     "output_type": "display_data"
    }
   ],
   "source": [
    "gbc_fpr, gbc_tpr, gbc_thresholds = roc_curve(y_test, ynew)\n",
    "# Compute ROC curve for the model without weight \n",
    "rf_fpr, rf_tpr, rf_thresholds = roc_curve(y_test, ynew2)\n",
    "# Compute ROC curve for the model with weight \n",
    "gbc_roc_auc = auc(gbc_fpr,gbc_tpr)\n",
    "rf_roc_auc  = auc(rf_fpr, rf_tpr)\n",
    "plt.figure()\n",
    "lw = 2\n",
    "plt.plot(gbc_fpr,gbc_tpr, color='darkorange',\n",
    "         lw=lw, label='non-weight (AUC = %0.3f)' % gbc_roc_auc)\n",
    "plt.plot(rf_fpr, rf_tpr, color='red',\n",
    "         lw=lw, label='weighted (AUC = %0.3f)' % rf_roc_auc)\n",
    "plt.plot()\n",
    "plt.plot([0, 1], [0, 1], color='navy', lw=lw, linestyle='--')\n",
    "plt.xlim([0.0, 1.0])\n",
    "plt.ylim([0.0, 1.05])\n",
    "plt.xlabel('False Positive Rate')\n",
    "plt.ylabel('True Positive Rate')\n",
    "plt.title('Receiver operating characteristic example')\n",
    "plt.legend(loc=\"lower right\")\n",
    "plt.savefig('roc.png')\n",
    "plt.show()"
   ]
  }
 ],
 "metadata": {
  "kernelspec": {
   "display_name": "Python 3",
   "language": "python",
   "name": "python3"
  },
  "language_info": {
   "codemirror_mode": {
    "name": "ipython",
    "version": 3
   },
   "file_extension": ".py",
   "mimetype": "text/x-python",
   "name": "python",
   "nbconvert_exporter": "python",
   "pygments_lexer": "ipython3",
   "version": "3.8.6"
  }
 },
 "nbformat": 4,
 "nbformat_minor": 4
}
